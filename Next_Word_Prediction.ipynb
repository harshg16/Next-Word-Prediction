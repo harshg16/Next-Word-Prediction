{
  "nbformat": 4,
  "nbformat_minor": 0,
  "metadata": {
    "colab": {
      "name": "Next_Word_LSTM",
      "provenance": [],
      "collapsed_sections": [],
      "machine_shape": "hm"
    },
    "kernelspec": {
      "name": "python3",
      "display_name": "Python 3"
    },
    "accelerator": "GPU"
  },
  "cells": [
    {
      "cell_type": "code",
      "metadata": {
        "id": "PLLxIInTdbD-",
        "colab_type": "code",
        "outputId": "9164770a-2c6a-453c-9675-8f627821a266",
        "colab": {
          "base_uri": "https://localhost:8080/",
          "height": 87
        }
      },
      "source": [
        "from tensorflow.keras.preprocessing.sequence import pad_sequences\n",
        "from tensorflow.keras.layers import Embedding, LSTM, Dense, Dropout\n",
        "from tensorflow.keras.preprocessing.text import Tokenizer\n",
        "from tensorflow.keras.callbacks import EarlyStopping, ModelCheckpoint\n",
        "from tensorflow.keras.models import Sequential\n",
        "import keras.utils as ku \n",
        "import pandas as pd\n",
        "import numpy as np\n",
        "import string, os \n",
        "import warnings\n",
        "\n",
        "import re\n",
        "import nltk\n",
        "from nltk.corpus import stopwords \n",
        "from nltk.tokenize import word_tokenize \n",
        "nltk.download('punkt')\n",
        "nltk.download('stopwords')\n",
        "\n",
        "warnings.filterwarnings(\"ignore\")\n",
        "warnings.simplefilter(action='ignore', category=FutureWarning)"
      ],
      "execution_count": 3,
      "outputs": [
        {
          "output_type": "stream",
          "text": [
            "[nltk_data] Downloading package punkt to /root/nltk_data...\n",
            "[nltk_data]   Package punkt is already up-to-date!\n",
            "[nltk_data] Downloading package stopwords to /root/nltk_data...\n",
            "[nltk_data]   Package stopwords is already up-to-date!\n"
          ],
          "name": "stdout"
        }
      ]
    },
    {
      "cell_type": "code",
      "metadata": {
        "id": "9wUo6xmDLfT2",
        "colab_type": "code",
        "colab": {}
      },
      "source": [
        "REPLACE_BY_SPACE_RE = re.compile('[/(){}\\[\\]\\|@,;]')\n",
        "BAD_SYMBOLS_RE = re.compile('[^0-9a-z #+_]')\n",
        "stop_words = set(stopwords.words('english'))\n",
        "\n",
        "def clean_text(text):\n",
        "    text = text.lower()\n",
        "    text = REPLACE_BY_SPACE_RE.sub(' ', text)\n",
        "    text = BAD_SYMBOLS_RE.sub(' ', text)\n",
        "    text = ' '.join(word for word in text.split() if word not in stop_words)\n",
        "    return text"
      ],
      "execution_count": 0,
      "outputs": []
    },
    {
      "cell_type": "code",
      "metadata": {
        "id": "aqhL_6EAwcGt",
        "colab_type": "code",
        "colab": {}
      },
      "source": [
        "data = pd.read_csv(\"/content/drive/My Drive/NLP_Data/articles.csv\", encoding=\"latin-1\")\n",
        "data['text'] = data['text'].apply(clean_text)\n",
        "articles = list(data['text'].values)\n",
        "corpus = [x for x in articles[:200]]\n",
        "len(articles)\n",
        "seq_length = 20"
      ],
      "execution_count": 0,
      "outputs": []
    },
    {
      "cell_type": "code",
      "metadata": {
        "id": "gIMeeN6rpcW-",
        "colab_type": "code",
        "outputId": "80f6b964-2f00-4e71-edef-8b0757ea7bff",
        "colab": {
          "base_uri": "https://localhost:8080/",
          "height": 35
        }
      },
      "source": [
        "t = Tokenizer(num_words=None, filters='!\"#$%&()*+,-./:;<=>?@[\\\\]^_`{|}~\\t\\n', lower=True, split=' ', char_level=False, oov_token=None, document_count=0)\n",
        "t.fit_on_texts(corpus)\n",
        "print('Found %s unique tokens.' % len(t.word_index))"
      ],
      "execution_count": 6,
      "outputs": [
        {
          "output_type": "stream",
          "text": [
            "Found 13664 unique tokens.\n"
          ],
          "name": "stdout"
        }
      ]
    },
    {
      "cell_type": "code",
      "metadata": {
        "id": "Ph_5dyebpngQ",
        "colab_type": "code",
        "outputId": "ced1947a-89f6-4ac7-ab79-824391cbf9b8",
        "colab": {
          "base_uri": "https://localhost:8080/",
          "height": 35
        }
      },
      "source": [
        "def get_sequence_of_tokens(corpus):\n",
        "    total_words = len(t.word_index) + 1\n",
        "    \n",
        "    input_sequences = []\n",
        "    for line in corpus:\n",
        "        token_list = t.texts_to_sequences([line])[0]\n",
        "        for i in range(1, len(token_list)-seq_length):\n",
        "            n_gram_sequence = token_list[i:i+seq_length]\n",
        "            input_sequences.append(n_gram_sequence)\n",
        "            \n",
        "    return input_sequences, total_words\n",
        "input_sequences, total_words = get_sequence_of_tokens(corpus)\n",
        "print(len(input_sequences))"
      ],
      "execution_count": 7,
      "outputs": [
        {
          "output_type": "stream",
          "text": [
            "206467\n"
          ],
          "name": "stdout"
        }
      ]
    },
    {
      "cell_type": "code",
      "metadata": {
        "id": "cV8nN1HYDvbL",
        "colab_type": "code",
        "colab": {
          "base_uri": "https://localhost:8080/",
          "height": 277
        },
        "outputId": "c338ff7c-afc5-4058-ebf8-11c726943370"
      },
      "source": [
        "t.sequences_to_texts(input_sequences[:15])"
      ],
      "execution_count": 10,
      "outputs": [
        {
          "output_type": "execute_result",
          "data": {
            "text/plain": [
              "['headlines blared chatbots next big thing hopes sky high bright eyed bushy tailed industry ripe new era innovation time start',\n",
              " 'blared chatbots next big thing hopes sky high bright eyed bushy tailed industry ripe new era innovation time start socializing',\n",
              " 'chatbots next big thing hopes sky high bright eyed bushy tailed industry ripe new era innovation time start socializing machines',\n",
              " 'next big thing hopes sky high bright eyed bushy tailed industry ripe new era innovation time start socializing machines road',\n",
              " 'big thing hopes sky high bright eyed bushy tailed industry ripe new era innovation time start socializing machines road signs',\n",
              " 'thing hopes sky high bright eyed bushy tailed industry ripe new era innovation time start socializing machines road signs pointed',\n",
              " 'hopes sky high bright eyed bushy tailed industry ripe new era innovation time start socializing machines road signs pointed towards',\n",
              " 'sky high bright eyed bushy tailed industry ripe new era innovation time start socializing machines road signs pointed towards insane',\n",
              " 'high bright eyed bushy tailed industry ripe new era innovation time start socializing machines road signs pointed towards insane success',\n",
              " 'bright eyed bushy tailed industry ripe new era innovation time start socializing machines road signs pointed towards insane success mobile',\n",
              " 'eyed bushy tailed industry ripe new era innovation time start socializing machines road signs pointed towards insane success mobile world',\n",
              " 'bushy tailed industry ripe new era innovation time start socializing machines road signs pointed towards insane success mobile world congress',\n",
              " 'tailed industry ripe new era innovation time start socializing machines road signs pointed towards insane success mobile world congress 2017',\n",
              " 'industry ripe new era innovation time start socializing machines road signs pointed towards insane success mobile world congress 2017 chatbots',\n",
              " 'ripe new era innovation time start socializing machines road signs pointed towards insane success mobile world congress 2017 chatbots main']"
            ]
          },
          "metadata": {
            "tags": []
          },
          "execution_count": 10
        }
      ]
    },
    {
      "cell_type": "code",
      "metadata": {
        "id": "38KMMABKsPjB",
        "colab_type": "code",
        "colab": {}
      },
      "source": [
        "def generate_padded_sequences(input_sequences):\n",
        "    input_sequences = np.array(pad_sequences(input_sequences,\n",
        "                                          maxlen = seq_length, padding = 'pre'))\n",
        "    predictors, label = input_sequences[:,:-1],input_sequences[:,-1]\n",
        "    label = ku.to_categorical(label, num_classes = total_words)\n",
        "    \n",
        "    return predictors, label\n",
        "\n",
        "predictors, label= generate_padded_sequences(input_sequences)"
      ],
      "execution_count": 0,
      "outputs": []
    },
    {
      "cell_type": "code",
      "metadata": {
        "id": "ImLHNtZd2Gju",
        "colab_type": "code",
        "outputId": "8d7ed6f6-9ec4-463e-8bf5-a68764529cf2",
        "colab": {
          "base_uri": "https://localhost:8080/",
          "height": 659
        }
      },
      "source": [
        "def create_model(sequence_len, total_words):\n",
        "    model = Sequential()\n",
        "    model.add(Embedding(total_words, sequence_len, input_length=sequence_len - 1))\n",
        "    model.add(LSTM(100,return_sequences=True))\n",
        "    model.add(LSTM(100))\n",
        "    model.add(Dense(100,activation='relu'))\n",
        "    model.add(Dense(total_words,activation='softmax'))\n",
        "    model.compile(loss='categorical_crossentropy',optimizer='adam',metrics=['accuracy'])\n",
        "    model.summary()\n",
        "    return model\n",
        "\n",
        "model = create_model(seq_length, total_words)\n",
        "model.summary()\n",
        "cp=ModelCheckpoint('/content/drive/My Drive/NLP_Data/model_lstm_20.hdf5',\n",
        "                   monitor='loss',verbose=1,save_best_only=True, period = 5)"
      ],
      "execution_count": 0,
      "outputs": [
        {
          "output_type": "stream",
          "text": [
            "Model: \"sequential_1\"\n",
            "_________________________________________________________________\n",
            "Layer (type)                 Output Shape              Param #   \n",
            "=================================================================\n",
            "embedding_1 (Embedding)      (None, 19, 20)            273300    \n",
            "_________________________________________________________________\n",
            "lstm_2 (LSTM)                (None, 19, 100)           48400     \n",
            "_________________________________________________________________\n",
            "lstm_3 (LSTM)                (None, 100)               80400     \n",
            "_________________________________________________________________\n",
            "dense_2 (Dense)              (None, 100)               10100     \n",
            "_________________________________________________________________\n",
            "dense_3 (Dense)              (None, 13665)             1380165   \n",
            "=================================================================\n",
            "Total params: 1,792,365\n",
            "Trainable params: 1,792,365\n",
            "Non-trainable params: 0\n",
            "_________________________________________________________________\n",
            "Model: \"sequential_1\"\n",
            "_________________________________________________________________\n",
            "Layer (type)                 Output Shape              Param #   \n",
            "=================================================================\n",
            "embedding_1 (Embedding)      (None, 19, 20)            273300    \n",
            "_________________________________________________________________\n",
            "lstm_2 (LSTM)                (None, 19, 100)           48400     \n",
            "_________________________________________________________________\n",
            "lstm_3 (LSTM)                (None, 100)               80400     \n",
            "_________________________________________________________________\n",
            "dense_2 (Dense)              (None, 100)               10100     \n",
            "_________________________________________________________________\n",
            "dense_3 (Dense)              (None, 13665)             1380165   \n",
            "=================================================================\n",
            "Total params: 1,792,365\n",
            "Trainable params: 1,792,365\n",
            "Non-trainable params: 0\n",
            "_________________________________________________________________\n",
            "WARNING:tensorflow:`period` argument is deprecated. Please use `save_freq` to specify the frequency in number of batches seen.\n"
          ],
          "name": "stdout"
        }
      ]
    },
    {
      "cell_type": "code",
      "metadata": {
        "id": "PP19THYe-INI",
        "colab_type": "code",
        "outputId": "4d813cc4-b10e-41a4-c416-3d4117410e60",
        "colab": {
          "base_uri": "https://localhost:8080/",
          "height": 1000
        }
      },
      "source": [
        "history = model.fit(predictors, label, epochs=100, verbose=1, callbacks=[cp])"
      ],
      "execution_count": 0,
      "outputs": [
        {
          "output_type": "stream",
          "text": [
            "Epoch 1/100\n",
            "6453/6453 [==============================] - 62s 10ms/step - loss: 8.0978 - accuracy: 0.0165\n",
            "Epoch 2/100\n",
            "6453/6453 [==============================] - 62s 10ms/step - loss: 7.7762 - accuracy: 0.0269\n",
            "Epoch 3/100\n",
            "6453/6453 [==============================] - 61s 10ms/step - loss: 7.5477 - accuracy: 0.0320\n",
            "Epoch 4/100\n",
            "6453/6453 [==============================] - 61s 10ms/step - loss: 7.3331 - accuracy: 0.0365\n",
            "Epoch 5/100\n",
            "6448/6453 [============================>.] - ETA: 0s - loss: 7.1282 - accuracy: 0.0416\n",
            "Epoch 00005: loss improved from inf to 7.12815, saving model to /content/drive/My Drive/NLP_Data/model_lstm_20.hdf5\n",
            "6453/6453 [==============================] - 61s 9ms/step - loss: 7.1282 - accuracy: 0.0416\n",
            "Epoch 6/100\n",
            "6453/6453 [==============================] - 62s 10ms/step - loss: 6.9311 - accuracy: 0.0467\n",
            "Epoch 7/100\n",
            "6453/6453 [==============================] - 63s 10ms/step - loss: 6.7385 - accuracy: 0.0524\n",
            "Epoch 8/100\n",
            "6453/6453 [==============================] - 62s 10ms/step - loss: 6.5514 - accuracy: 0.0583\n",
            "Epoch 9/100\n",
            "6453/6453 [==============================] - 61s 9ms/step - loss: 6.3691 - accuracy: 0.0654\n",
            "Epoch 10/100\n",
            "6448/6453 [============================>.] - ETA: 0s - loss: 6.1947 - accuracy: 0.0723\n",
            "Epoch 00010: loss improved from 7.12815 to 6.19431, saving model to /content/drive/My Drive/NLP_Data/model_lstm_20.hdf5\n",
            "6453/6453 [==============================] - 61s 10ms/step - loss: 6.1943 - accuracy: 0.0723\n",
            "Epoch 11/100\n",
            "6453/6453 [==============================] - 62s 10ms/step - loss: 6.0255 - accuracy: 0.0810\n",
            "Epoch 12/100\n",
            "6453/6453 [==============================] - 62s 10ms/step - loss: 5.8623 - accuracy: 0.0911\n",
            "Epoch 13/100\n",
            "6453/6453 [==============================] - 61s 10ms/step - loss: 5.7061 - accuracy: 0.1012\n",
            "Epoch 14/100\n",
            "6453/6453 [==============================] - 61s 9ms/step - loss: 5.5554 - accuracy: 0.1134\n",
            "Epoch 15/100\n",
            "6451/6453 [============================>.] - ETA: 0s - loss: 5.4101 - accuracy: 0.1265\n",
            "Epoch 00015: loss improved from 6.19431 to 5.41030, saving model to /content/drive/My Drive/NLP_Data/model_lstm_20.hdf5\n",
            "6453/6453 [==============================] - 62s 10ms/step - loss: 5.4103 - accuracy: 0.1265\n",
            "Epoch 16/100\n",
            "6453/6453 [==============================] - 62s 10ms/step - loss: 5.2715 - accuracy: 0.1395\n",
            "Epoch 17/100\n",
            "6453/6453 [==============================] - 62s 10ms/step - loss: 5.1415 - accuracy: 0.1533\n",
            "Epoch 18/100\n",
            "6453/6453 [==============================] - 61s 9ms/step - loss: 5.0181 - accuracy: 0.1669\n",
            "Epoch 19/100\n",
            "6453/6453 [==============================] - 61s 10ms/step - loss: 4.9017 - accuracy: 0.1799\n",
            "Epoch 20/100\n",
            "6452/6453 [============================>.] - ETA: 0s - loss: 4.7895 - accuracy: 0.1932\n",
            "Epoch 00020: loss improved from 5.41030 to 4.78966, saving model to /content/drive/My Drive/NLP_Data/model_lstm_20.hdf5\n",
            "6453/6453 [==============================] - 62s 10ms/step - loss: 4.7897 - accuracy: 0.1932\n",
            "Epoch 21/100\n",
            "6453/6453 [==============================] - 62s 10ms/step - loss: 4.6809 - accuracy: 0.2063\n",
            "Epoch 22/100\n",
            "6453/6453 [==============================] - 62s 10ms/step - loss: 4.5804 - accuracy: 0.2190\n",
            "Epoch 23/100\n",
            "6453/6453 [==============================] - 61s 10ms/step - loss: 4.4824 - accuracy: 0.2316\n",
            "Epoch 24/100\n",
            "6453/6453 [==============================] - 62s 10ms/step - loss: 4.3924 - accuracy: 0.2428\n",
            "Epoch 25/100\n",
            "6450/6453 [============================>.] - ETA: 0s - loss: 4.3067 - accuracy: 0.2540\n",
            "Epoch 00025: loss improved from 4.78966 to 4.30693, saving model to /content/drive/My Drive/NLP_Data/model_lstm_20.hdf5\n",
            "6453/6453 [==============================] - 62s 10ms/step - loss: 4.3069 - accuracy: 0.2540\n",
            "Epoch 26/100\n",
            "6453/6453 [==============================] - 62s 10ms/step - loss: 4.2293 - accuracy: 0.2638\n",
            "Epoch 27/100\n",
            "6453/6453 [==============================] - 62s 10ms/step - loss: 4.1530 - accuracy: 0.2743\n",
            "Epoch 28/100\n",
            "6453/6453 [==============================] - 63s 10ms/step - loss: 4.0811 - accuracy: 0.2853\n",
            "Epoch 29/100\n",
            "6453/6453 [==============================] - 63s 10ms/step - loss: 4.0095 - accuracy: 0.2954\n",
            "Epoch 30/100\n",
            "6452/6453 [============================>.] - ETA: 0s - loss: 3.9472 - accuracy: 0.3038\n",
            "Epoch 00030: loss improved from 4.30693 to 3.94775, saving model to /content/drive/My Drive/NLP_Data/model_lstm_20.hdf5\n",
            "6453/6453 [==============================] - 63s 10ms/step - loss: 3.9477 - accuracy: 0.3038\n",
            "Epoch 31/100\n",
            "6453/6453 [==============================] - 63s 10ms/step - loss: 3.8826 - accuracy: 0.3130\n",
            "Epoch 32/100\n",
            "6453/6453 [==============================] - 62s 10ms/step - loss: 3.8296 - accuracy: 0.3210\n",
            "Epoch 33/100\n",
            "6453/6453 [==============================] - 62s 10ms/step - loss: 3.7712 - accuracy: 0.3291\n",
            "Epoch 34/100\n",
            "6453/6453 [==============================] - 62s 10ms/step - loss: 3.7165 - accuracy: 0.3380\n",
            "Epoch 35/100\n",
            "6451/6453 [============================>.] - ETA: 0s - loss: 3.6685 - accuracy: 0.3449\n",
            "Epoch 00035: loss improved from 3.94775 to 3.66829, saving model to /content/drive/My Drive/NLP_Data/model_lstm_20.hdf5\n",
            "6453/6453 [==============================] - 62s 10ms/step - loss: 3.6683 - accuracy: 0.3449\n",
            "Epoch 36/100\n",
            "6453/6453 [==============================] - 63s 10ms/step - loss: 3.6241 - accuracy: 0.3527\n",
            "Epoch 37/100\n",
            "6453/6453 [==============================] - 62s 10ms/step - loss: 3.5724 - accuracy: 0.3592\n",
            "Epoch 38/100\n",
            "6453/6453 [==============================] - 62s 10ms/step - loss: 3.5289 - accuracy: 0.3657\n",
            "Epoch 39/100\n",
            "6453/6453 [==============================] - 62s 10ms/step - loss: 3.4878 - accuracy: 0.3731\n",
            "Epoch 40/100\n",
            "6449/6453 [============================>.] - ETA: 0s - loss: 3.4440 - accuracy: 0.3791\n",
            "Epoch 00040: loss improved from 3.66829 to 3.44424, saving model to /content/drive/My Drive/NLP_Data/model_lstm_20.hdf5\n",
            "6453/6453 [==============================] - 62s 10ms/step - loss: 3.4442 - accuracy: 0.3790\n",
            "Epoch 41/100\n",
            "6453/6453 [==============================] - 62s 10ms/step - loss: 3.4028 - accuracy: 0.3853\n",
            "Epoch 42/100\n",
            "6453/6453 [==============================] - 62s 10ms/step - loss: 3.3625 - accuracy: 0.3916\n",
            "Epoch 43/100\n",
            "6453/6453 [==============================] - 62s 10ms/step - loss: 3.3250 - accuracy: 0.3976\n",
            "Epoch 44/100\n",
            "6453/6453 [==============================] - 62s 10ms/step - loss: 3.2926 - accuracy: 0.4024\n",
            "Epoch 45/100\n",
            "6453/6453 [==============================] - ETA: 0s - loss: 3.2588 - accuracy: 0.4079\n",
            "Epoch 00045: loss improved from 3.44424 to 3.25881, saving model to /content/drive/My Drive/NLP_Data/model_lstm_20.hdf5\n",
            "6453/6453 [==============================] - 62s 10ms/step - loss: 3.2588 - accuracy: 0.4079\n",
            "Epoch 46/100\n",
            "6453/6453 [==============================] - 62s 10ms/step - loss: 3.2287 - accuracy: 0.4126\n",
            "Epoch 47/100\n",
            "6453/6453 [==============================] - 61s 10ms/step - loss: 3.1958 - accuracy: 0.4171\n",
            "Epoch 48/100\n",
            "6453/6453 [==============================] - 61s 10ms/step - loss: 3.1666 - accuracy: 0.4217\n",
            "Epoch 49/100\n",
            "6453/6453 [==============================] - 61s 10ms/step - loss: 3.1413 - accuracy: 0.4263\n",
            "Epoch 50/100\n",
            "6449/6453 [============================>.] - ETA: 0s - loss: 3.1149 - accuracy: 0.4304\n",
            "Epoch 00050: loss improved from 3.25881 to 3.11522, saving model to /content/drive/My Drive/NLP_Data/model_lstm_20.hdf5\n",
            "6453/6453 [==============================] - 64s 10ms/step - loss: 3.1152 - accuracy: 0.4304\n",
            "Epoch 51/100\n",
            "6453/6453 [==============================] - 63s 10ms/step - loss: 3.0872 - accuracy: 0.4349\n",
            "Epoch 52/100\n",
            "6453/6453 [==============================] - 61s 10ms/step - loss: 3.0634 - accuracy: 0.4381\n",
            "Epoch 53/100\n",
            "6453/6453 [==============================] - 61s 9ms/step - loss: 3.0393 - accuracy: 0.4424\n",
            "Epoch 54/100\n",
            "6453/6453 [==============================] - 61s 10ms/step - loss: 3.0164 - accuracy: 0.4467\n",
            "Epoch 55/100\n",
            "6450/6453 [============================>.] - ETA: 0s - loss: 2.9948 - accuracy: 0.4494\n",
            "Epoch 00055: loss improved from 3.11522 to 2.99467, saving model to /content/drive/My Drive/NLP_Data/model_lstm_20.hdf5\n",
            "6453/6453 [==============================] - 62s 10ms/step - loss: 2.9947 - accuracy: 0.4494\n",
            "Epoch 56/100\n",
            "6453/6453 [==============================] - 62s 10ms/step - loss: 2.9740 - accuracy: 0.4523\n",
            "Epoch 57/100\n",
            "6453/6453 [==============================] - 61s 9ms/step - loss: 2.9521 - accuracy: 0.4568\n",
            "Epoch 58/100\n",
            "6453/6453 [==============================] - 61s 9ms/step - loss: 2.9375 - accuracy: 0.4583\n",
            "Epoch 59/100\n",
            "6453/6453 [==============================] - 61s 9ms/step - loss: 2.9185 - accuracy: 0.4617\n",
            "Epoch 60/100\n",
            "6451/6453 [============================>.] - ETA: 0s - loss: 2.9030 - accuracy: 0.4642\n",
            "Epoch 00060: loss improved from 2.99467 to 2.90290, saving model to /content/drive/My Drive/NLP_Data/model_lstm_20.hdf5\n",
            "6453/6453 [==============================] - 61s 10ms/step - loss: 2.9029 - accuracy: 0.4642\n",
            "Epoch 61/100\n",
            "6453/6453 [==============================] - 61s 10ms/step - loss: 2.8821 - accuracy: 0.4679\n",
            "Epoch 62/100\n",
            "6453/6453 [==============================] - 61s 9ms/step - loss: 2.8588 - accuracy: 0.4713\n",
            "Epoch 63/100\n",
            "6453/6453 [==============================] - 61s 9ms/step - loss: 2.8518 - accuracy: 0.4719\n",
            "Epoch 64/100\n",
            "6453/6453 [==============================] - 61s 9ms/step - loss: 2.8394 - accuracy: 0.4734\n",
            "Epoch 65/100\n",
            "6448/6453 [============================>.] - ETA: 0s - loss: 2.8223 - accuracy: 0.4769\n",
            "Epoch 00065: loss improved from 2.90290 to 2.82253, saving model to /content/drive/My Drive/NLP_Data/model_lstm_20.hdf5\n",
            "6453/6453 [==============================] - 61s 9ms/step - loss: 2.8225 - accuracy: 0.4769\n",
            "Epoch 66/100\n",
            "6453/6453 [==============================] - 61s 10ms/step - loss: 2.8017 - accuracy: 0.4802\n",
            "Epoch 67/100\n",
            "6453/6453 [==============================] - 62s 10ms/step - loss: 2.7963 - accuracy: 0.4821\n",
            "Epoch 68/100\n",
            "6453/6453 [==============================] - 61s 9ms/step - loss: 2.7729 - accuracy: 0.4850\n",
            "Epoch 69/100\n",
            "6453/6453 [==============================] - 61s 9ms/step - loss: 2.7645 - accuracy: 0.4873\n",
            "Epoch 70/100\n",
            "6449/6453 [============================>.] - ETA: 0s - loss: 2.7513 - accuracy: 0.4879\n",
            "Epoch 00070: loss improved from 2.82253 to 2.75120, saving model to /content/drive/My Drive/NLP_Data/model_lstm_20.hdf5\n",
            "6453/6453 [==============================] - 62s 10ms/step - loss: 2.7512 - accuracy: 0.4879\n",
            "Epoch 71/100\n",
            "6453/6453 [==============================] - 62s 10ms/step - loss: 2.7331 - accuracy: 0.4914\n",
            "Epoch 72/100\n",
            "6453/6453 [==============================] - 62s 10ms/step - loss: 2.7191 - accuracy: 0.4929\n",
            "Epoch 73/100\n",
            "6453/6453 [==============================] - 61s 9ms/step - loss: 2.7031 - accuracy: 0.4959\n",
            "Epoch 74/100\n",
            "6453/6453 [==============================] - 61s 9ms/step - loss: 2.6949 - accuracy: 0.4972\n",
            "Epoch 75/100\n",
            "6453/6453 [==============================] - ETA: 0s - loss: 2.6756 - accuracy: 0.5011\n",
            "Epoch 00075: loss improved from 2.75120 to 2.67557, saving model to /content/drive/My Drive/NLP_Data/model_lstm_20.hdf5\n",
            "6453/6453 [==============================] - 61s 10ms/step - loss: 2.6756 - accuracy: 0.5011\n",
            "Epoch 76/100\n",
            "6453/6453 [==============================] - 61s 9ms/step - loss: 2.6660 - accuracy: 0.5017\n",
            "Epoch 77/100\n",
            "6453/6453 [==============================] - 62s 10ms/step - loss: 2.6554 - accuracy: 0.5033\n",
            "Epoch 78/100\n",
            "6453/6453 [==============================] - 62s 10ms/step - loss: 2.6443 - accuracy: 0.5057\n",
            "Epoch 79/100\n",
            "6453/6453 [==============================] - 62s 10ms/step - loss: 2.6313 - accuracy: 0.5069\n",
            "Epoch 80/100\n",
            "6452/6453 [============================>.] - ETA: 0s - loss: 2.6204 - accuracy: 0.5088\n",
            "Epoch 00080: loss improved from 2.67557 to 2.62069, saving model to /content/drive/My Drive/NLP_Data/model_lstm_20.hdf5\n",
            "6453/6453 [==============================] - 63s 10ms/step - loss: 2.6207 - accuracy: 0.5088\n",
            "Epoch 81/100\n",
            "6453/6453 [==============================] - 61s 9ms/step - loss: 2.6099 - accuracy: 0.5101\n",
            "Epoch 82/100\n",
            "6453/6453 [==============================] - 62s 10ms/step - loss: 2.5907 - accuracy: 0.5133\n",
            "Epoch 83/100\n",
            "6453/6453 [==============================] - 61s 9ms/step - loss: 2.5874 - accuracy: 0.5133\n",
            "Epoch 84/100\n",
            "6453/6453 [==============================] - 61s 10ms/step - loss: 2.5774 - accuracy: 0.5165\n",
            "Epoch 85/100\n",
            "6448/6453 [============================>.] - ETA: 0s - loss: 2.5653 - accuracy: 0.5180\n",
            "Epoch 00085: loss improved from 2.62069 to 2.56545, saving model to /content/drive/My Drive/NLP_Data/model_lstm_20.hdf5\n",
            "6453/6453 [==============================] - 62s 10ms/step - loss: 2.5654 - accuracy: 0.5180\n",
            "Epoch 86/100\n",
            "6453/6453 [==============================] - 62s 10ms/step - loss: 2.5640 - accuracy: 0.5177\n",
            "Epoch 87/100\n",
            "6453/6453 [==============================] - 62s 10ms/step - loss: 2.5497 - accuracy: 0.5190\n",
            "Epoch 88/100\n",
            "6453/6453 [==============================] - 62s 10ms/step - loss: 2.5397 - accuracy: 0.5229\n",
            "Epoch 89/100\n",
            "6453/6453 [==============================] - 62s 10ms/step - loss: 2.5378 - accuracy: 0.5223\n",
            "Epoch 90/100\n",
            "6453/6453 [==============================] - ETA: 0s - loss: 2.5271 - accuracy: 0.5239\n",
            "Epoch 00090: loss improved from 2.56545 to 2.52708, saving model to /content/drive/My Drive/NLP_Data/model_lstm_20.hdf5\n",
            "6453/6453 [==============================] - 63s 10ms/step - loss: 2.5271 - accuracy: 0.5239\n",
            "Epoch 91/100\n",
            "6453/6453 [==============================] - 62s 10ms/step - loss: 2.5183 - accuracy: 0.5249\n",
            "Epoch 92/100\n",
            "6453/6453 [==============================] - 64s 10ms/step - loss: 2.5065 - accuracy: 0.5274\n",
            "Epoch 93/100\n",
            "6453/6453 [==============================] - 63s 10ms/step - loss: 2.4992 - accuracy: 0.5282\n",
            "Epoch 94/100\n",
            "6453/6453 [==============================] - 63s 10ms/step - loss: 2.4923 - accuracy: 0.5302\n",
            "Epoch 95/100\n",
            "6448/6453 [============================>.] - ETA: 0s - loss: 2.4902 - accuracy: 0.5297\n",
            "Epoch 00095: loss improved from 2.52708 to 2.49000, saving model to /content/drive/My Drive/NLP_Data/model_lstm_20.hdf5\n",
            "6453/6453 [==============================] - 62s 10ms/step - loss: 2.4900 - accuracy: 0.5297\n",
            "Epoch 96/100\n",
            "6453/6453 [==============================] - 62s 10ms/step - loss: 2.4852 - accuracy: 0.5304\n",
            "Epoch 97/100\n",
            "6453/6453 [==============================] - 62s 10ms/step - loss: 2.4679 - accuracy: 0.5337\n",
            "Epoch 98/100\n",
            "6453/6453 [==============================] - 62s 10ms/step - loss: 2.4739 - accuracy: 0.5320\n",
            "Epoch 99/100\n",
            "6453/6453 [==============================] - 62s 10ms/step - loss: 2.4590 - accuracy: 0.5352\n",
            "Epoch 100/100\n",
            "6449/6453 [============================>.] - ETA: 0s - loss: 2.4526 - accuracy: 0.5352\n",
            "Epoch 00100: loss improved from 2.49000 to 2.45264, saving model to /content/drive/My Drive/NLP_Data/model_lstm_20.hdf5\n",
            "6453/6453 [==============================] - 62s 10ms/step - loss: 2.4526 - accuracy: 0.5352\n"
          ],
          "name": "stdout"
        }
      ]
    },
    {
      "cell_type": "code",
      "metadata": {
        "id": "s9FPUV9aaHQW",
        "colab_type": "code",
        "outputId": "dc65a8f3-c59a-4989-efb1-14c2528603ca",
        "colab": {
          "base_uri": "https://localhost:8080/",
          "height": 302
        }
      },
      "source": [
        "import matplotlib.pyplot as plt\n",
        "\n",
        "fig1 = plt.figure()\n",
        "plt.plot(history.history['loss'],'r',linewidth=3.0)\n",
        "plt.legend(['Training loss'],fontsize=18)\n",
        "plt.xlabel('Epochs ',fontsize=16)\n",
        "plt.ylabel('Loss',fontsize=16)\n",
        "plt.title('Loss Curves :CNN',fontsize=16)\n",
        "plt.show() "
      ],
      "execution_count": 0,
      "outputs": [
        {
          "output_type": "display_data",
          "data": {
            "image/png": "[encoded data removed]",
            "text/plain": [
              "<Figure size 432x288 with 1 Axes>"
            ]
          },
          "metadata": {
            "tags": []
          }
        }
      ]
    },
    {
      "cell_type": "code",
      "metadata": {
        "id": "0zptuGveA9H_",
        "colab_type": "code",
        "outputId": "231991c1-966b-4004-ab8a-8e5eb8a1729f",
        "colab": {
          "base_uri": "https://localhost:8080/",
          "height": 35
        }
      },
      "source": [
        "from tensorflow.keras.models import load_model\n",
        "model = load_model('/content/drive/My Drive/NLP_Data/model_lstm_final.hdf5')"
      ],
      "execution_count": 0,
      "outputs": [
        {
          "output_type": "stream",
          "text": [
            "WARNING:tensorflow:Error in loading the saved optimizer state. As a result, your model is starting with a freshly initialized optimizer.\n"
          ],
          "name": "stdout"
        }
      ]
    },
    {
      "cell_type": "code",
      "metadata": {
        "id": "TlRWXd5jPFi4",
        "colab_type": "code",
        "colab": {}
      },
      "source": [
        "def generate_text(seed_text, next_words, model, max_seq_len):\n",
        "    for _ in range(next_words):\n",
        "        token_list = t.texts_to_sequences([seed_text])[0]\n",
        "        token_list = pad_sequences([token_list], maxlen=max_seq_len-1, padding='pre')\n",
        "        predicted = model.predict_classes(token_list, verbose=0)\n",
        "        output_word = ''\n",
        "        for word,index in t.word_index.items():\n",
        "            if index == predicted:\n",
        "                output_word = word\n",
        "                break\n",
        "        seed_text = seed_text + \" \" + output_word\n",
        "    return seed_text.title()"
      ],
      "execution_count": 0,
      "outputs": []
    },
    {
      "cell_type": "code",
      "metadata": {
        "id": "UtWUwlgiBRiu",
        "colab_type": "code",
        "outputId": "7dca0e2e-641d-47e0-800d-2551480231e4",
        "colab": {
          "base_uri": "https://localhost:8080/",
          "height": 35
        }
      },
      "source": [
        "print(generate_text(\"machine learning\", 1, model, seq_length))"
      ],
      "execution_count": 0,
      "outputs": [
        {
          "output_type": "stream",
          "text": [
            "Machine Learning Techniques\n"
          ],
          "name": "stdout"
        }
      ]
    },
    {
      "cell_type": "code",
      "metadata": {
        "id": "EUj6a-e_BbnA",
        "colab_type": "code",
        "colab": {}
      },
      "source": [
        "import pickle\n",
        "with open('/content/drive/My Drive/NLP_Data/tokenier.pickle', 'wb') as handle:\n",
        "    pickle.dump(t, handle, protocol=pickle.HIGHEST_PROTOCOL)"
      ],
      "execution_count": 0,
      "outputs": []
    },
    {
      "cell_type": "code",
      "metadata": {
        "id": "yNgth0xlbQpo",
        "colab_type": "code",
        "colab": {}
      },
      "source": [
        ""
      ],
      "execution_count": 0,
      "outputs": []
    }
  ]
}